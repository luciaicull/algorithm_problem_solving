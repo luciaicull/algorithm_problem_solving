{
 "cells": [
  {
   "cell_type": "markdown",
   "metadata": {},
   "source": [
    "## Basic Information\n",
    "### 1. list\n",
    "#### 1) copy : 얕은 복사\n",
    "* 리스트의 값만 복사. 수정 후 원본은 변하지 않음"
   ]
  },
  {
   "cell_type": "code",
   "execution_count": 53,
   "metadata": {},
   "outputs": [
    {
     "name": "stdout",
     "output_type": "stream",
     "text": [
      "[1, 2, 3]\n",
      "[1, 2, 100, 4]\n"
     ]
    }
   ],
   "source": [
    "# 얕은 복사 - numeric value의 경우\n",
    "a = [1,2,3]\n",
    "b = a.copy()\n",
    "\n",
    "b.append(4)\n",
    "b[2] = 100\n",
    "\n",
    "print(a)\n",
    "print(b)"
   ]
  },
  {
   "cell_type": "code",
   "execution_count": 55,
   "metadata": {},
   "outputs": [
    {
     "name": "stdout",
     "output_type": "stream",
     "text": [
      "[{'key1': 1, 'key2': 'a'}, {'key1': 100, 'key2': 'p'}, {'key1': 2, 'key2': 'd'}]\n",
      "[{'key1': 1, 'key2': 'a'}, {'key1': 100, 'key2': 'p'}, {'key1': 2, 'key2': 'd'}, {'key1': -1, 'key2': 'z'}]\n"
     ]
    }
   ],
   "source": [
    "# 얕은 복사 - dict 등 object의 경우\n",
    "# (주의) object는 주소값이 복사되므로 원본 또한 변경된다.\n",
    "a = [{'key1':1, 'key2':'a'}, {'key1':7, 'key2':'p'}, {'key1':2, 'key2':'d'}]\n",
    "b = a.copy()\n",
    "\n",
    "b.append({'key1':-1, 'key2':'z'})\n",
    "b[1]['key1'] = 100\n",
    "\n",
    "print(a)\n",
    "print(b)"
   ]
  },
  {
   "cell_type": "markdown",
   "metadata": {},
   "source": [
    "#### 2) list reverse : 리스트를 거꾸로 뒤집기"
   ]
  },
  {
   "cell_type": "code",
   "execution_count": 50,
   "metadata": {},
   "outputs": [
    {
     "name": "stdout",
     "output_type": "stream",
     "text": [
      "[4, 3, 2, 1]\n"
     ]
    }
   ],
   "source": [
    "a = [1,2,3,4]\n",
    "a.reverse()\n",
    "\n",
    "print(a)"
   ]
  },
  {
   "cell_type": "markdown",
   "metadata": {},
   "source": [
    "#### 3) list sort : 리스트를 오름차순으로 정렬"
   ]
  },
  {
   "cell_type": "code",
   "execution_count": 16,
   "metadata": {},
   "outputs": [
    {
     "name": "stdout",
     "output_type": "stream",
     "text": [
      "[0, 2, 4, 5, 7, 8]\n",
      "[5, 2, 7, 4, 8, 0]\n",
      "[0, 2, 4, 5, 7, 8]\n"
     ]
    }
   ],
   "source": [
    "a = [5,2,7,4,8,0]\n",
    "\n",
    "# 정렬된 새로운 리스트 구하기\n",
    "print(sorted(a))\n",
    "\n",
    "# 리스트 자체를 정렬하기\n",
    "a.sort()\n",
    "print(a)"
   ]
  },
  {
   "cell_type": "markdown",
   "metadata": {},
   "source": [
    "#### 4) list sort : 리스트를 내림차순으로 정렬"
   ]
  },
  {
   "cell_type": "code",
   "execution_count": 19,
   "metadata": {},
   "outputs": [
    {
     "name": "stdout",
     "output_type": "stream",
     "text": [
      "[8, 7, 5, 4, 2, 0]\n",
      "[5, 2, 7, 4, 8, 0]\n",
      "[8, 7, 5, 4, 2, 0]\n"
     ]
    }
   ],
   "source": [
    "a = [5,2,7,4,8,0]\n",
    "\n",
    "# 정렬된 새로운 리스트 구하기\n",
    "print(sorted(a, reverse=True))\n",
    "\n",
    "# 리스트 자체를 정렬하기\n",
    "a.sort(reverse=True)\n",
    "print(a)"
   ]
  },
  {
   "cell_type": "markdown",
   "metadata": {},
   "source": [
    "#### 5) list sort : 키 값을 이용한 정렬"
   ]
  },
  {
   "cell_type": "code",
   "execution_count": 23,
   "metadata": {},
   "outputs": [
    {
     "name": "stdout",
     "output_type": "stream",
     "text": [
      "[{'key1': 1, 'key2': 'a'}, {'key1': 2, 'key2': 'd'}, {'key1': 4, 'key2': 'b'}, {'key1': 7, 'key2': 'p'}]\n",
      "[{'key1': 1, 'key2': 'a'}, {'key1': 4, 'key2': 'b'}, {'key1': 2, 'key2': 'd'}, {'key1': 7, 'key2': 'p'}]\n",
      "[{'key1': 7, 'key2': 'p'}, {'key1': 4, 'key2': 'b'}, {'key1': 2, 'key2': 'd'}, {'key1': 1, 'key2': 'a'}]\n"
     ]
    }
   ],
   "source": [
    "a = [{'key1':1, 'key2':'a'}, {'key1':7, 'key2':'p'}, {'key1':4, 'key2':'b'}, {'key1':2, 'key2':'d'}]\n",
    "\n",
    "print(sorted(a, key=lambda dic:dic['key1']))\n",
    "print(sorted(a, key=lambda dic:dic['key2']))\n",
    "print(sorted(a, key=lambda dic:dic['key1'], reverse=True))"
   ]
  },
  {
   "cell_type": "code",
   "execution_count": null,
   "metadata": {},
   "outputs": [],
   "source": []
  },
  {
   "cell_type": "code",
   "execution_count": null,
   "metadata": {},
   "outputs": [],
   "source": []
  },
  {
   "cell_type": "code",
   "execution_count": 29,
   "metadata": {},
   "outputs": [],
   "source": [
    "from itertools import permutations, combinations, product, combinations_with_replacement"
   ]
  },
  {
   "cell_type": "markdown",
   "metadata": {},
   "source": [
    "#### 1) 순열 :  n개의 item 중 r개를 뽑아 나열하는 경우의 수\n",
    "* 중복을 허용하지 않을 경우"
   ]
  },
  {
   "cell_type": "code",
   "execution_count": 5,
   "metadata": {},
   "outputs": [
    {
     "name": "stdout",
     "output_type": "stream",
     "text": [
      "[(1, 2), (1, 3), (1, 4), (2, 1), (2, 3), (2, 4), (3, 1), (3, 2), (3, 4), (4, 1), (4, 2), (4, 3)]\n"
     ]
    }
   ],
   "source": [
    "# permutations(길이 n의 list, r)\n",
    "a = [1,2,3,4]\n",
    "possible_cases = list(permutations(a, 2))\n",
    "\n",
    "print(possible_cases)"
   ]
  },
  {
   "cell_type": "markdown",
   "metadata": {},
   "source": [
    "#### 2) 조합 : n개의 item 중 r개를 뽑는 경우의 수\n",
    "* 중복을 허용하지 않을 경우"
   ]
  },
  {
   "cell_type": "code",
   "execution_count": 8,
   "metadata": {},
   "outputs": [
    {
     "name": "stdout",
     "output_type": "stream",
     "text": [
      "[(1, 2), (1, 3), (1, 4), (2, 3), (2, 4), (3, 4)]\n"
     ]
    }
   ],
   "source": [
    "# combinations(길이 n의 list, r)\n",
    "a = [1,2,3,4]\n",
    "possible_cases = list(combinations(a, 2))\n",
    "\n",
    "print(possible_cases)"
   ]
  },
  {
   "cell_type": "markdown",
   "metadata": {},
   "source": [
    "* 중복을 허용할 경우"
   ]
  },
  {
   "cell_type": "code",
   "execution_count": 30,
   "metadata": {},
   "outputs": [
    {
     "name": "stdout",
     "output_type": "stream",
     "text": [
      "[('A', 'A'), ('A', 'B'), ('A', 'C'), ('B', 'B'), ('B', 'C'), ('C', 'C')]\n"
     ]
    }
   ],
   "source": [
    "# combinations_with_replacement(길이 n의 list, r)\n",
    "a = 'ABC'\n",
    "possible_cases = list(combinations_with_replacement(a, 2))\n",
    "\n",
    "print(possible_cases)"
   ]
  },
  {
   "cell_type": "markdown",
   "metadata": {},
   "source": [
    "#### 3) 리스트들의 데카르트곱 : 중첩 반복문과 같은 역할을 함"
   ]
  },
  {
   "cell_type": "code",
   "execution_count": 25,
   "metadata": {},
   "outputs": [
    {
     "name": "stdout",
     "output_type": "stream",
     "text": [
      "[(1, 'a', '!'), (1, 'a', '@'), (1, 'b', '!'), (1, 'b', '@'), (1, 'c', '!'), (1, 'c', '@'), (2, 'a', '!'), (2, 'a', '@'), (2, 'b', '!'), (2, 'b', '@'), (2, 'c', '!'), (2, 'c', '@'), (3, 'a', '!'), (3, 'a', '@'), (3, 'b', '!'), (3, 'b', '@'), (3, 'c', '!'), (3, 'c', '@'), (4, 'a', '!'), (4, 'a', '@'), (4, 'b', '!'), (4, 'b', '@'), (4, 'c', '!'), (4, 'c', '@')]\n"
     ]
    }
   ],
   "source": [
    "# product(list 1, list 2, ...)\n",
    "a, b, c = [1,2,3,4], ['a','b','c'], ['!','@']\n",
    "possible_cases = list(product(a, b, c))\n",
    "\n",
    "print(possible_cases)"
   ]
  },
  {
   "cell_type": "markdown",
   "metadata": {},
   "source": [
    "* 아래의 경우 중복을 허용한 순열과 같은 역할을 함"
   ]
  },
  {
   "cell_type": "code",
   "execution_count": 28,
   "metadata": {},
   "outputs": [
    {
     "name": "stdout",
     "output_type": "stream",
     "text": [
      "[(0, 0, 0), (0, 0, 1), (0, 1, 0), (0, 1, 1), (1, 0, 0), (1, 0, 1), (1, 1, 0), (1, 1, 1)]\n"
     ]
    }
   ],
   "source": [
    "# product(list, repeat=k)\n",
    "possible_cases = list(product(range(2), repeat=3))\n",
    "\n",
    "print(possible_cases)"
   ]
  },
  {
   "cell_type": "markdown",
   "metadata": {},
   "source": [
    "\n",
    "### 2. collections"
   ]
  },
  {
   "cell_type": "code",
   "execution_count": 32,
   "metadata": {},
   "outputs": [],
   "source": [
    "from collections import deque, defaultdict"
   ]
  },
  {
   "cell_type": "markdown",
   "metadata": {},
   "source": [
    "#### 1) deque\n",
    "* 양쪽 끝에서 빠르게 추가/삭제를 할 수 있는 리스트류 컨테이너\n",
    "* 일반적인 list에서 맨 앞에 추가할 경우 O(N)의 시간이 소요\n",
    "* deque의 경우 O(1)의 시간으로 양쪽 끝의 추가/삭제 연산 가능"
   ]
  },
  {
   "cell_type": "code",
   "execution_count": 47,
   "metadata": {},
   "outputs": [
    {
     "name": "stdout",
     "output_type": "stream",
     "text": [
      "deque([1, 2, 3, 4])\n",
      "deque([0, 1, 2, 3, 4])\n",
      "deque([0, 1, 2, 3])\n",
      "deque([1, 2, 3])\n",
      "deque([1, 2, 3, 7, 8, 9])\n",
      "deque([-3, -2, -1, 1, 2, 3, 7, 8, 9])\n"
     ]
    }
   ],
   "source": [
    "a = deque([1,2,3])\n",
    "\n",
    "# 맨 뒤에 추가\n",
    "a.append(4)\n",
    "print(a)\n",
    "\n",
    "# 맨 앞에 추가\n",
    "a.appendleft(0)\n",
    "print(a)\n",
    "\n",
    "# 맨 뒤 삭제\n",
    "a.pop()\n",
    "print(a)\n",
    "\n",
    "# 맨 앞 삭제\n",
    "a.popleft()\n",
    "print(a)\n",
    "\n",
    "# 맨 뒤에 리스트 붙이기\n",
    "a.extend([7,8,9])\n",
    "print(a)\n",
    "\n",
    "# 맨 앞에 리스트 붙이기 : 역순으로 합쳐짐\n",
    "a.extendleft([-1, -2, -3])\n",
    "print(a)"
   ]
  },
  {
   "cell_type": "markdown",
   "metadata": {},
   "source": [
    "\n",
    "#### 2) defaultdict\n",
    "* dictionary item의 기본 타입을 설정할 수 있음"
   ]
  },
  {
   "cell_type": "code",
   "execution_count": 64,
   "metadata": {},
   "outputs": [
    {
     "name": "stdout",
     "output_type": "stream",
     "text": [
      "key1 [3, 3, 4]\n"
     ]
    }
   ],
   "source": [
    "# 기본 타입 : list\n",
    "a = defaultdict(list)\n",
    "\n",
    "a['key1'].append(3)\n",
    "a['key1'].append(3)\n",
    "a['key1'].append(4)\n",
    "for key in a.keys():\n",
    "    print(key, a[key])"
   ]
  },
  {
   "cell_type": "code",
   "execution_count": 62,
   "metadata": {},
   "outputs": [
    {
     "name": "stdout",
     "output_type": "stream",
     "text": [
      "key1 {3, 4}\n"
     ]
    }
   ],
   "source": [
    "# 기본 타입 : set\n",
    "a = defaultdict(set)\n",
    "\n",
    "a['key1'].add(3)\n",
    "a['key1'].add(3)\n",
    "a['key1'].add(4)\n",
    "for key in a.keys():\n",
    "    print(key, a[key])"
   ]
  },
  {
   "cell_type": "code",
   "execution_count": null,
   "metadata": {},
   "outputs": [],
   "source": []
  }
 ],
 "metadata": {
  "kernelspec": {
   "display_name": "Python 3",
   "language": "python",
   "name": "python3"
  },
  "language_info": {
   "codemirror_mode": {
    "name": "ipython",
    "version": 3
   },
   "file_extension": ".py",
   "mimetype": "text/x-python",
   "name": "python",
   "nbconvert_exporter": "python",
   "pygments_lexer": "ipython3",
   "version": "3.6.4"
  }
 },
 "nbformat": 4,
 "nbformat_minor": 4
}
